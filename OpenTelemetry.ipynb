{
 "cells": [
  {
   "cell_type": "code",
   "execution_count": 1,
   "metadata": {},
   "outputs": [],
   "source": [
    "import github\n",
    "from IPython.display import display, Markdown"
   ]
  },
  {
   "cell_type": "code",
   "execution_count": 2,
   "metadata": {},
   "outputs": [],
   "source": [
    "gh = github.Github()\n",
    "repos = gh.search_repositories(\n",
    "    query=\"org:conda-forge opentelemetry\"\n",
    ")\n",
    "all_repos = list(repos)"
   ]
  },
  {
   "cell_type": "code",
   "execution_count": 3,
   "metadata": {},
   "outputs": [],
   "source": [
    "rows = []\n",
    "for repo in all_repos:\n",
    "    package = repo.name[:-len(\"-feedstock\")] \n",
    "    badge = f\"![Conda](https://img.shields.io/conda/v/conda-forge/{package})\"\n",
    "    link = f\"[feedstock]({repo.html_url})\"\n",
    "    row = f\"| {package} | {badge} | {link} |\"\n",
    "    rows.append(row)\n"
   ]
  },
  {
   "cell_type": "code",
   "execution_count": 4,
   "metadata": {},
   "outputs": [
    {
     "data": {
      "text/markdown": [
       "| package | version | link |\n",
       "|---------|---------|------|\n",
       "| opentelemetry-api | ![Conda](https://img.shields.io/conda/v/conda-forge/opentelemetry-api) | [feedstock](https://github.com/conda-forge/opentelemetry-api-feedstock) |\n",
       "| opentelemetry-exporter-datadog | ![Conda](https://img.shields.io/conda/v/conda-forge/opentelemetry-exporter-datadog) | [feedstock](https://github.com/conda-forge/opentelemetry-exporter-datadog-feedstock) |\n",
       "| opentelemetry-exporter-google-cloud | ![Conda](https://img.shields.io/conda/v/conda-forge/opentelemetry-exporter-google-cloud) | [feedstock](https://github.com/conda-forge/opentelemetry-exporter-google-cloud-feedstock) |\n",
       "| opentelemetry-exporter-jaeger | ![Conda](https://img.shields.io/conda/v/conda-forge/opentelemetry-exporter-jaeger) | [feedstock](https://github.com/conda-forge/opentelemetry-exporter-jaeger-feedstock) |\n",
       "| opentelemetry-exporter-jaeger-proto-grpc | ![Conda](https://img.shields.io/conda/v/conda-forge/opentelemetry-exporter-jaeger-proto-grpc) | [feedstock](https://github.com/conda-forge/opentelemetry-exporter-jaeger-proto-grpc-feedstock) |\n",
       "| opentelemetry-exporter-jaeger-thrift | ![Conda](https://img.shields.io/conda/v/conda-forge/opentelemetry-exporter-jaeger-thrift) | [feedstock](https://github.com/conda-forge/opentelemetry-exporter-jaeger-thrift-feedstock) |\n",
       "| opentelemetry-exporter-opencensus | ![Conda](https://img.shields.io/conda/v/conda-forge/opentelemetry-exporter-opencensus) | [feedstock](https://github.com/conda-forge/opentelemetry-exporter-opencensus-feedstock) |\n",
       "| opentelemetry-exporter-otlp | ![Conda](https://img.shields.io/conda/v/conda-forge/opentelemetry-exporter-otlp) | [feedstock](https://github.com/conda-forge/opentelemetry-exporter-otlp-feedstock) |\n",
       "| opentelemetry-exporter-otlp-proto-grpc | ![Conda](https://img.shields.io/conda/v/conda-forge/opentelemetry-exporter-otlp-proto-grpc) | [feedstock](https://github.com/conda-forge/opentelemetry-exporter-otlp-proto-grpc-feedstock) |\n",
       "| opentelemetry-exporter-zipkin | ![Conda](https://img.shields.io/conda/v/conda-forge/opentelemetry-exporter-zipkin) | [feedstock](https://github.com/conda-forge/opentelemetry-exporter-zipkin-feedstock) |\n",
       "| opentelemetry-exporter-zipkin-json | ![Conda](https://img.shields.io/conda/v/conda-forge/opentelemetry-exporter-zipkin-json) | [feedstock](https://github.com/conda-forge/opentelemetry-exporter-zipkin-json-feedstock) |\n",
       "| opentelemetry-exporter-zipkin-proto-http | ![Conda](https://img.shields.io/conda/v/conda-forge/opentelemetry-exporter-zipkin-proto-http) | [feedstock](https://github.com/conda-forge/opentelemetry-exporter-zipkin-proto-http-feedstock) |\n",
       "| opentelemetry-instrumentation | ![Conda](https://img.shields.io/conda/v/conda-forge/opentelemetry-instrumentation) | [feedstock](https://github.com/conda-forge/opentelemetry-instrumentation-feedstock) |\n",
       "| opentelemetry-instrumentation-aiohttp-client | ![Conda](https://img.shields.io/conda/v/conda-forge/opentelemetry-instrumentation-aiohttp-client) | [feedstock](https://github.com/conda-forge/opentelemetry-instrumentation-aiohttp-client-feedstock) |\n",
       "| opentelemetry-instrumentation-aiopg | ![Conda](https://img.shields.io/conda/v/conda-forge/opentelemetry-instrumentation-aiopg) | [feedstock](https://github.com/conda-forge/opentelemetry-instrumentation-aiopg-feedstock) |\n",
       "| opentelemetry-instrumentation-asgi | ![Conda](https://img.shields.io/conda/v/conda-forge/opentelemetry-instrumentation-asgi) | [feedstock](https://github.com/conda-forge/opentelemetry-instrumentation-asgi-feedstock) |\n",
       "| opentelemetry-instrumentation-asyncpg | ![Conda](https://img.shields.io/conda/v/conda-forge/opentelemetry-instrumentation-asyncpg) | [feedstock](https://github.com/conda-forge/opentelemetry-instrumentation-asyncpg-feedstock) |\n",
       "| opentelemetry-instrumentation-boto | ![Conda](https://img.shields.io/conda/v/conda-forge/opentelemetry-instrumentation-boto) | [feedstock](https://github.com/conda-forge/opentelemetry-instrumentation-boto-feedstock) |\n",
       "| opentelemetry-instrumentation-botocore | ![Conda](https://img.shields.io/conda/v/conda-forge/opentelemetry-instrumentation-botocore) | [feedstock](https://github.com/conda-forge/opentelemetry-instrumentation-botocore-feedstock) |\n",
       "| opentelemetry-instrumentation-celery | ![Conda](https://img.shields.io/conda/v/conda-forge/opentelemetry-instrumentation-celery) | [feedstock](https://github.com/conda-forge/opentelemetry-instrumentation-celery-feedstock) |\n",
       "| opentelemetry-instrumentation-dbapi | ![Conda](https://img.shields.io/conda/v/conda-forge/opentelemetry-instrumentation-dbapi) | [feedstock](https://github.com/conda-forge/opentelemetry-instrumentation-dbapi-feedstock) |\n",
       "| opentelemetry-instrumentation-django | ![Conda](https://img.shields.io/conda/v/conda-forge/opentelemetry-instrumentation-django) | [feedstock](https://github.com/conda-forge/opentelemetry-instrumentation-django-feedstock) |\n",
       "| opentelemetry-instrumentation-elasticsearch | ![Conda](https://img.shields.io/conda/v/conda-forge/opentelemetry-instrumentation-elasticsearch) | [feedstock](https://github.com/conda-forge/opentelemetry-instrumentation-elasticsearch-feedstock) |\n",
       "| opentelemetry-instrumentation-falcon | ![Conda](https://img.shields.io/conda/v/conda-forge/opentelemetry-instrumentation-falcon) | [feedstock](https://github.com/conda-forge/opentelemetry-instrumentation-falcon-feedstock) |\n",
       "| opentelemetry-instrumentation-fastapi | ![Conda](https://img.shields.io/conda/v/conda-forge/opentelemetry-instrumentation-fastapi) | [feedstock](https://github.com/conda-forge/opentelemetry-instrumentation-fastapi-feedstock) |\n",
       "| opentelemetry-instrumentation-flask | ![Conda](https://img.shields.io/conda/v/conda-forge/opentelemetry-instrumentation-flask) | [feedstock](https://github.com/conda-forge/opentelemetry-instrumentation-flask-feedstock) |\n",
       "| opentelemetry-instrumentation-grpc | ![Conda](https://img.shields.io/conda/v/conda-forge/opentelemetry-instrumentation-grpc) | [feedstock](https://github.com/conda-forge/opentelemetry-instrumentation-grpc-feedstock) |\n",
       "| opentelemetry-instrumentation-httpx | ![Conda](https://img.shields.io/conda/v/conda-forge/opentelemetry-instrumentation-httpx) | [feedstock](https://github.com/conda-forge/opentelemetry-instrumentation-httpx-feedstock) |\n",
       "| opentelemetry-instrumentation-jinja2 | ![Conda](https://img.shields.io/conda/v/conda-forge/opentelemetry-instrumentation-jinja2) | [feedstock](https://github.com/conda-forge/opentelemetry-instrumentation-jinja2-feedstock) |\n",
       "| opentelemetry-instrumentation-logging | ![Conda](https://img.shields.io/conda/v/conda-forge/opentelemetry-instrumentation-logging) | [feedstock](https://github.com/conda-forge/opentelemetry-instrumentation-logging-feedstock) |\n",
       "| opentelemetry-instrumentation-mysql | ![Conda](https://img.shields.io/conda/v/conda-forge/opentelemetry-instrumentation-mysql) | [feedstock](https://github.com/conda-forge/opentelemetry-instrumentation-mysql-feedstock) |\n",
       "| opentelemetry-instrumentation-psycopg2 | ![Conda](https://img.shields.io/conda/v/conda-forge/opentelemetry-instrumentation-psycopg2) | [feedstock](https://github.com/conda-forge/opentelemetry-instrumentation-psycopg2-feedstock) |\n",
       "| opentelemetry-instrumentation-pymemcache | ![Conda](https://img.shields.io/conda/v/conda-forge/opentelemetry-instrumentation-pymemcache) | [feedstock](https://github.com/conda-forge/opentelemetry-instrumentation-pymemcache-feedstock) |\n",
       "| opentelemetry-instrumentation-pymongo | ![Conda](https://img.shields.io/conda/v/conda-forge/opentelemetry-instrumentation-pymongo) | [feedstock](https://github.com/conda-forge/opentelemetry-instrumentation-pymongo-feedstock) |\n",
       "| opentelemetry-instrumentation-pymysql | ![Conda](https://img.shields.io/conda/v/conda-forge/opentelemetry-instrumentation-pymysql) | [feedstock](https://github.com/conda-forge/opentelemetry-instrumentation-pymysql-feedstock) |\n",
       "| opentelemetry-instrumentation-pyramid | ![Conda](https://img.shields.io/conda/v/conda-forge/opentelemetry-instrumentation-pyramid) | [feedstock](https://github.com/conda-forge/opentelemetry-instrumentation-pyramid-feedstock) |\n",
       "| opentelemetry-instrumentation-redis | ![Conda](https://img.shields.io/conda/v/conda-forge/opentelemetry-instrumentation-redis) | [feedstock](https://github.com/conda-forge/opentelemetry-instrumentation-redis-feedstock) |\n",
       "| opentelemetry-instrumentation-requests | ![Conda](https://img.shields.io/conda/v/conda-forge/opentelemetry-instrumentation-requests) | [feedstock](https://github.com/conda-forge/opentelemetry-instrumentation-requests-feedstock) |\n",
       "| opentelemetry-instrumentation-sklearn | ![Conda](https://img.shields.io/conda/v/conda-forge/opentelemetry-instrumentation-sklearn) | [feedstock](https://github.com/conda-forge/opentelemetry-instrumentation-sklearn-feedstock) |\n",
       "| opentelemetry-instrumentation-sqlalchemy | ![Conda](https://img.shields.io/conda/v/conda-forge/opentelemetry-instrumentation-sqlalchemy) | [feedstock](https://github.com/conda-forge/opentelemetry-instrumentation-sqlalchemy-feedstock) |\n",
       "| opentelemetry-instrumentation-sqlite3 | ![Conda](https://img.shields.io/conda/v/conda-forge/opentelemetry-instrumentation-sqlite3) | [feedstock](https://github.com/conda-forge/opentelemetry-instrumentation-sqlite3-feedstock) |\n",
       "| opentelemetry-instrumentation-starlette | ![Conda](https://img.shields.io/conda/v/conda-forge/opentelemetry-instrumentation-starlette) | [feedstock](https://github.com/conda-forge/opentelemetry-instrumentation-starlette-feedstock) |\n",
       "| opentelemetry-instrumentation-tornado | ![Conda](https://img.shields.io/conda/v/conda-forge/opentelemetry-instrumentation-tornado) | [feedstock](https://github.com/conda-forge/opentelemetry-instrumentation-tornado-feedstock) |\n",
       "| opentelemetry-instrumentation-urllib | ![Conda](https://img.shields.io/conda/v/conda-forge/opentelemetry-instrumentation-urllib) | [feedstock](https://github.com/conda-forge/opentelemetry-instrumentation-urllib-feedstock) |\n",
       "| opentelemetry-instrumentation-urllib3 | ![Conda](https://img.shields.io/conda/v/conda-forge/opentelemetry-instrumentation-urllib3) | [feedstock](https://github.com/conda-forge/opentelemetry-instrumentation-urllib3-feedstock) |\n",
       "| opentelemetry-instrumentation-wsgi | ![Conda](https://img.shields.io/conda/v/conda-forge/opentelemetry-instrumentation-wsgi) | [feedstock](https://github.com/conda-forge/opentelemetry-instrumentation-wsgi-feedstock) |\n",
       "| opentelemetry-propagator-b3 | ![Conda](https://img.shields.io/conda/v/conda-forge/opentelemetry-propagator-b3) | [feedstock](https://github.com/conda-forge/opentelemetry-propagator-b3-feedstock) |\n",
       "| opentelemetry-proto | ![Conda](https://img.shields.io/conda/v/conda-forge/opentelemetry-proto) | [feedstock](https://github.com/conda-forge/opentelemetry-proto-feedstock) |\n",
       "| opentelemetry-sdk | ![Conda](https://img.shields.io/conda/v/conda-forge/opentelemetry-sdk) | [feedstock](https://github.com/conda-forge/opentelemetry-sdk-feedstock) |\n",
       "| opentelemetry-semantic-conventions | ![Conda](https://img.shields.io/conda/v/conda-forge/opentelemetry-semantic-conventions) | [feedstock](https://github.com/conda-forge/opentelemetry-semantic-conventions-feedstock) |\n",
       "| opentelemetry-util-http | ![Conda](https://img.shields.io/conda/v/conda-forge/opentelemetry-util-http) | [feedstock](https://github.com/conda-forge/opentelemetry-util-http-feedstock) |"
      ],
      "text/plain": [
       "<IPython.core.display.Markdown object>"
      ]
     },
     "execution_count": 4,
     "metadata": {},
     "output_type": "execute_result"
    }
   ],
   "source": [
    "Markdown(\"\\n\".join([\n",
    "    \"| package | version | link |\",\n",
    "    \"|---------|---------|------|\",\n",
    "    *sorted(rows)]))"
   ]
  },
  {
   "cell_type": "code",
   "execution_count": null,
   "metadata": {},
   "outputs": [],
   "source": []
  }
 ],
 "metadata": {
  "interpreter": {
   "hash": "d4d1e4263499bec80672ea0156c357c1ee493ec2b1c70f0acce89fc37c4a6abe"
  },
  "kernelspec": {
   "display_name": "Python 3.9.7 64-bit ('base': conda)",
   "name": "python3"
  },
  "language_info": {
   "codemirror_mode": {
    "name": "ipython",
    "version": 3
   },
   "file_extension": ".py",
   "mimetype": "text/x-python",
   "name": "python",
   "nbconvert_exporter": "python",
   "pygments_lexer": "ipython3",
   "version": "3.9.7"
  },
  "orig_nbformat": 4
 },
 "nbformat": 4,
 "nbformat_minor": 2
}
